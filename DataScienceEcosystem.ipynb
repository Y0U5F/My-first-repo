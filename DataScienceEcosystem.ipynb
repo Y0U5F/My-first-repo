{
 "cells": [
  {
   "cell_type": "markdown",
   "id": "545a98e2",
   "metadata": {},
   "source": [
    "# Data Science Tools and Ecosystem"
   ]
  },
  {
   "cell_type": "markdown",
   "id": "6adaf0c0",
   "metadata": {},
   "source": [
    "### In this notebook, Data Science Tools and Ecosystem are summarized."
   ]
  },
  {
   "cell_type": "markdown",
   "id": "e3369670",
   "metadata": {},
   "source": [
    "#### Some of the popular languages that Data Scientists use are:"
   ]
  },
  {
   "cell_type": "markdown",
   "id": "47a24b63",
   "metadata": {},
   "source": [
    "1. **Python**: Python is widely considered the go-to language for data science.\n",
    "2. **R** is a statistical programming language that is specifically designed for data analysis and visualization\n",
    "3. **SQL** is crucial for data scientists, facilitating interaction with relational databases for data retrieval, manipulation, and analysis in the field of data science."
   ]
  },
  {
   "cell_type": "markdown",
   "id": "234707c2",
   "metadata": {},
   "source": [
    "#### Some of the commonly used libraries used by Data Scientists include:"
   ]
  },
  {
   "cell_type": "markdown",
   "id": "7a7cafa4",
   "metadata": {},
   "source": [
    "1. **NumPy**: Efficient library for numerical operations and manipulation of large arrays in Python.\n",
    "\n",
    "2. **pandas**: Data manipulation and analysis library, offering powerful data structures like DataFrames.\n",
    "\n",
    "3. **Matplotlib**: Widely-used 2D plotting library for creating visualizations in Python.\n"
   ]
  },
  {
   "cell_type": "markdown",
   "id": "8c40705d",
   "metadata": {},
   "source": [
    "| Data Science Tools         |\n",
    "|---------------------------|\n",
    "| **Jupyter Notebook**       |\n",
    "| **RStudio**                |\n",
    "| **VS Code with Python**    |\n"
   ]
  },
  {
   "cell_type": "markdown",
   "id": "8de5c87e",
   "metadata": {},
   "source": [
    "# Arithmetic Expression Examples\n",
    "\n",
    "Below are a few examples of evaluating arithmetic expressions in Python.\n",
    "\n",
    "### Examples"
   ]
  },
  {
   "cell_type": "code",
   "execution_count": 3,
   "id": "e3feaaad",
   "metadata": {},
   "outputs": [
    {
     "data": {
      "text/plain": [
       "17"
      ]
     },
     "execution_count": 3,
     "metadata": {},
     "output_type": "execute_result"
    }
   ],
   "source": [
    "# This is a simple arithmetic expression to multiply then add integers.\n",
    "result = (3 * 4) + 5\n",
    "result"
   ]
  },
  {
   "cell_type": "code",
   "execution_count": 4,
   "id": "e3e2d281",
   "metadata": {},
   "outputs": [
    {
     "data": {
      "text/plain": [
       "3.3333333333333335"
      ]
     },
     "execution_count": 4,
     "metadata": {},
     "output_type": "execute_result"
    }
   ],
   "source": [
    "# This will convert 200 minutes to hours by dividing by 60.\n",
    "minutes = 200\n",
    "hours = minutes / 60\n",
    "hours"
   ]
  },
  {
   "cell_type": "markdown",
   "id": "a3258e1b",
   "metadata": {},
   "source": [
    "# Objectives:\n",
    "\n",
    "- List popular languages for Data Science.\n",
    "- Understand basic arithmetic expressions in Python.\n",
    "- Perform arithmetic operations in code cells."
   ]
  },
  {
   "cell_type": "markdown",
   "id": "b6cfae5d",
   "metadata": {},
   "source": [
    "## Author\n",
    "Y0USEF"
   ]
  }
 ],
 "metadata": {
  "kernelspec": {
   "display_name": "Python 3 (ipykernel)",
   "language": "python",
   "name": "python3"
  },
  "language_info": {
   "codemirror_mode": {
    "name": "ipython",
    "version": 3
   },
   "file_extension": ".py",
   "mimetype": "text/x-python",
   "name": "python",
   "nbconvert_exporter": "python",
   "pygments_lexer": "ipython3",
   "version": "3.9.13"
  }
 },
 "nbformat": 4,
 "nbformat_minor": 5
}
